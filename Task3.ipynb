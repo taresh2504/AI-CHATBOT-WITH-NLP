# Task 3

# AI Chatbot with NLP 
import random

# Step 1: Chatbot ka response function
def chatbot_response(user_input):
    responses = {
        "hi": "Hello! How can I help you?",
        "hello": "Hi there! How can I assist you today?",
        "how are you": "I'm just a bot, but I'm doing fine!",
        "what is your name": "I am your friendly AI chatbot.",
        "bye": "Goodbye! Have a great day!"
    }
    return responses.get(user_input.lower(), "Sorry, I don't understand that.")

# Step 2: Chatbot start message
print("AI Chatbot is running! Type 'bye' to exit.\n")

# Step 3: Continuous chat loop
while True:
    user_input = input("You: ")
    if user_input.lower() == "bye":
        print("Bot:", chatbot_response("bye"))
        break
    else:
        print("Bot:", chatbot_response(user_input))
